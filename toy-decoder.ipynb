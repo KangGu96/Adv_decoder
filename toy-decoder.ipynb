{
 "cells": [
  {
   "cell_type": "code",
   "execution_count": null,
   "metadata": {
    "_cell_guid": "b1076dfc-b9ad-4769-8c92-a6c4dae69d19",
    "_uuid": "8f2839f25d086af736a60e9eeb907d3b93b6e0e5",
    "execution": {
     "iopub.execute_input": "2022-03-25T00:11:50.817226Z",
     "iopub.status.busy": "2022-03-25T00:11:50.816840Z",
     "iopub.status.idle": "2022-03-25T00:11:59.091821Z",
     "shell.execute_reply": "2022-03-25T00:11:59.088326Z",
     "shell.execute_reply.started": "2022-03-25T00:11:50.817141Z"
    }
   },
   "outputs": [],
   "source": [
    "from sklearn.model_selection import train_test_split\n",
    "from torch.utils.data import Dataset, DataLoader\n",
    "import numpy as np # linear algebra\n",
    "import pandas as pd # data processing, CSV file I/O (e.g. pd.read_csv)\n",
    "import torch\n",
    "import torch.nn as nn\n",
    "import torch.nn.functional as F\n",
    "from torch.autograd import Variable\n",
    "from torch.nn.modules.loss import _WeightedLoss\n",
    "from torchtext.data.metrics import bleu_score\n",
    "import tensorflow as tf\n",
    "import tensorflow_hub as hub\n",
    "\n",
    "from collections import defaultdict\n",
    "import math\n",
    "import re\n",
    "from nltk.sentiment import SentimentIntensityAnalyzer\n",
    "sia = SentimentIntensityAnalyzer()\n",
    "import os\n",
    "for dirname, _, filenames in os.walk('/kaggle/input'):\n",
    "    for filename in filenames:\n",
    "        print(os.path.join(dirname, filename))\n",
    "\n"
   ]
  },
  {
   "cell_type": "code",
   "execution_count": null,
   "metadata": {
    "execution": {
     "iopub.execute_input": "2022-03-25T00:12:32.821274Z",
     "iopub.status.busy": "2022-03-25T00:12:32.821001Z",
     "iopub.status.idle": "2022-03-25T00:12:32.831809Z",
     "shell.execute_reply": "2022-03-25T00:12:32.830888Z",
     "shell.execute_reply.started": "2022-03-25T00:12:32.821243Z"
    }
   },
   "outputs": [],
   "source": [
    "class SmoothCrossEntropyLoss(_WeightedLoss):\n",
    "    def __init__(self, weight=None, reduction='mean', smoothing=0.0):\n",
    "        super().__init__(weight=weight, reduction=reduction)\n",
    "        self.smoothing = smoothing\n",
    "        self.weight = weight\n",
    "        self.reduction = reduction\n",
    "\n",
    "    def k_one_hot(self, targets:torch.Tensor, n_classes:int, smoothing=0.0):\n",
    "        with torch.no_grad():\n",
    "            targets = torch.empty(size=(targets.size(0), n_classes),\n",
    "                                  device=targets.device) \\\n",
    "                                  .fill_(smoothing /(n_classes-1)) \\\n",
    "                                  .scatter_(1, targets.data.unsqueeze(1), 1.-smoothing)\n",
    "        return targets\n",
    "\n",
    "    def reduce_loss(self, loss):\n",
    "        return loss.mean() if self.reduction == 'mean' else loss.sum() \\\n",
    "        if self.reduction == 'sum' else loss\n",
    "\n",
    "    def forward(self, inputs, targets):\n",
    "        assert 0 <= self.smoothing < 1\n",
    "\n",
    "        targets = self.k_one_hot(targets, inputs.size(-1), self.smoothing)\n",
    "        log_preds = F.log_softmax(inputs, -1)\n",
    "\n",
    "        if self.weight is not None:\n",
    "            log_preds = log_preds * self.weight.unsqueeze(0)\n",
    "\n",
    "        return self.reduce_loss(-(targets * log_preds).sum(dim=-1))"
   ]
  },
  {
   "cell_type": "code",
   "execution_count": null,
   "metadata": {
    "execution": {
     "iopub.execute_input": "2022-03-25T00:13:15.173563Z",
     "iopub.status.busy": "2022-03-25T00:13:15.173269Z",
     "iopub.status.idle": "2022-03-25T00:13:15.274371Z",
     "shell.execute_reply": "2022-03-25T00:13:15.273640Z",
     "shell.execute_reply.started": "2022-03-25T00:13:15.173531Z"
    }
   },
   "outputs": [],
   "source": [
    "# testing loss function\n",
    "crit = SmoothCrossEntropyLoss(smoothing=0.5)\n",
    "predict = torch.FloatTensor([[0, 0.2, 0.7, 0.1, 0],\n",
    "                            [0, 0.9, 0.2, 0.2, 1], \n",
    "                            [1, 0.2, 0.7, 0.9, 1]])\n",
    "v = crit(Variable(predict),\n",
    "        Variable(torch.LongTensor([2, 1, 0])))\n",
    "print(v)"
   ]
  },
  {
   "cell_type": "code",
   "execution_count": null,
   "metadata": {
    "execution": {
     "iopub.execute_input": "2022-03-25T00:14:46.337113Z",
     "iopub.status.busy": "2022-03-25T00:14:46.336834Z",
     "iopub.status.idle": "2022-03-25T00:15:04.460057Z",
     "shell.execute_reply": "2022-03-25T00:15:04.459245Z",
     "shell.execute_reply.started": "2022-03-25T00:14:46.337083Z"
    }
   },
   "outputs": [],
   "source": [
    "from transformers import AutoTokenizer, AutoModel, AdamW, get_linear_schedule_with_warmup\n",
    "tokenizer = AutoTokenizer.from_pretrained(\"bert-base-uncased\")\n",
    "Clinical_bert = AutoModel.from_pretrained(\"bert-base-uncased\")\n",
    "device = torch.device(\"cuda:0\" if torch.cuda.is_available() else \"cpu\")"
   ]
  },
  {
   "cell_type": "code",
   "execution_count": null,
   "metadata": {
    "execution": {
     "iopub.execute_input": "2022-03-25T00:15:23.929011Z",
     "iopub.status.busy": "2022-03-25T00:15:23.928440Z",
     "iopub.status.idle": "2022-03-25T00:15:23.940550Z",
     "shell.execute_reply": "2022-03-25T00:15:23.939547Z",
     "shell.execute_reply.started": "2022-03-25T00:15:23.928972Z"
    }
   },
   "outputs": [],
   "source": [
    "#The decoder model architecture\n",
    "class Decoder(nn.Module): \n",
    "    def __init__(self, nhead=8, num_layers=6, d_model=768, constrained_embedding=True, d_pos=512, vocab=None, sequence_memory=False,\n",
    "                pos_embedding = Clinical_bert.embeddings.position_embeddings.weight, word_embedding=Clinical_bert.embeddings.word_embeddings.weight ): \n",
    "        super(Decoder, self).__init__() \n",
    "        decoder_layer = nn.TransformerDecoderLayer(d_model=d_model, nhead=nhead, batch_first=True)\n",
    "        ##initialize transformer decoder\n",
    "        self.transformer =  nn.TransformerDecoder(decoder_layer, num_layers=num_layers)\n",
    "        ##initialize position encoding\n",
    "        self.pos_embedding = nn.Embedding(d_pos, d_model)\n",
    "        self.pos_embedding.weight = nn.Parameter(pos_embedding)\n",
    "        self.pos_embedding.weight.requires_grad = False\n",
    "        ##initialize projection layer\n",
    "        #self.projection = nn.Linear(768, 28996, bias=False)\n",
    "        if constrained_embedding:\n",
    "            self.word_embedding = nn.Parameter(torch.index_select(word_embedding,0,vocab))\n",
    "        else:\n",
    "            self.word_embedding = nn.Parameter(word_embedding)\n",
    "        self.word_embedding.requires_grad = True     \n",
    "        self.sequence_memory = sequence_memory\n",
    "        #self.activation = nn.Softmax(dim=-1)\n",
    "        \n",
    "    def forward(self,de_input, memory):\n",
    "        de_input_pos_emd = self.pos_embedding(torch.arange(de_input.shape[1]).to(device))\n",
    "        de_input = de_input + de_input_pos_emd.unsqueeze(0).repeat(de_input.shape[0],1,1) ###add positional encoding to decoder input \n",
    "        if not self.sequence_memory:\n",
    "            memory = memory.unsqueeze(1).repeat(1,de_input.shape[1],1)\n",
    "        memory = memory + de_input_pos_emd.unsqueeze(0).repeat(de_input.shape[0],1,1) ###add positional encoding to memory\n",
    "        x = self.transformer(de_input, memory)\n",
    "        \n",
    "        #y = self.projection(x)\n",
    "        y = torch.matmul(x, self.word_embedding.t())\n",
    "        return y"
   ]
  },
  {
   "cell_type": "code",
   "execution_count": null,
   "metadata": {
    "execution": {
     "iopub.execute_input": "2022-03-25T00:15:27.462744Z",
     "iopub.status.busy": "2022-03-25T00:15:27.462292Z",
     "iopub.status.idle": "2022-03-25T00:15:45.275176Z",
     "shell.execute_reply": "2022-03-25T00:15:45.274349Z",
     "shell.execute_reply.started": "2022-03-25T00:15:27.462548Z"
    }
   },
   "outputs": [],
   "source": [
    "class clinical_embedding(Dataset):\n",
    "    def __init__(self, text, de_input,transform=None, target_transform=None):\n",
    "        self.text = text\n",
    "        self.de_input = de_input\n",
    "        self.transform = transform\n",
    "        self.target_transform = target_transform\n",
    "        \n",
    "    def __len__(self):\n",
    "        return self.text.shape[0]\n",
    "\n",
    "    def __getitem__(self, idx):\n",
    "        X = self.text[idx]\n",
    "        memory = torch.Tensor(X).to(torch.float32)\n",
    "        de_input = torch.tensor(self.de_input[idx]).to(torch.int64)\n",
    "        target = torch.roll(de_input, -1, dims=0)\n",
    "        target[-1] = 0\n",
    "        #target = F.one_hot(target, num_classes=28996)\n",
    "        de_input = Clinical_bert.embeddings.word_embeddings(de_input)\n",
    "        \n",
    "        sample = {\"memory\": memory, \"target\": target, \"de_input\": de_input}\n",
    "       \n",
    "        return sample\n",
    "\n",
    "\n",
    "def vec_translate(a, my_dict):    \n",
    "        return np.vectorize(my_dict.__getitem__)(a)\n",
    "\n",
    "batch_size = 60\n",
    "sequential_embedding = True\n",
    "###loading data from npy\n",
    "if sequential_embedding:\n",
    "    embeddings = np.load(\"/kaggle/input/toy-encoding-data/airline_unpooled_1.npy\")\n",
    "    embeddings = embeddings.reshape(-1, 128, 768)\n",
    "else:\n",
    "    embeddings = np.load(\"/kaggle/input/toy-encoding-data/airline_pooled_1.npy\")\n",
    "    embeddings = embeddings.reshape(-1, 768)\n",
    "tgt = np.loadtxt(\"/kaggle/input/toy-encoding-data/toy_input_ids.txt\").astype(int)###load the subset\n",
    "tgt = tgt[:embeddings.shape[0],:]\n",
    "vocab = np.unique(tgt)\n",
    "print(vocab.shape)\n",
    "idx_2_token = {}\n",
    "token_2_idx = {}\n",
    "for idx, token in enumerate(vocab):\n",
    "    idx_2_token[idx] = token\n",
    "    token_2_idx[token] = idx\n",
    "vocab = torch.Tensor(vocab).to(torch.int64)\n",
    "new_tgt= vec_translate(tgt, token_2_idx)\n",
    "\n",
    "X_tr_mem, X_test_mem, y_tr_dein, y_test_dein = train_test_split(embeddings, new_tgt, test_size=0.1, random_state=2022)\n",
    "\n",
    "### convert decoder input into one hot target\n",
    "\n",
    "training_data = clinical_embedding(X_tr_mem, y_tr_dein)\n",
    "test_data = clinical_embedding(X_test_mem, y_test_dein)\n",
    "train_dataloader = DataLoader(training_data, batch_size, shuffle=True)\n",
    "test_dataloader = DataLoader(test_data, batch_size, shuffle=True)"
   ]
  },
  {
   "cell_type": "code",
   "execution_count": null,
   "metadata": {
    "execution": {
     "iopub.execute_input": "2022-01-19T14:24:19.08728Z",
     "iopub.status.busy": "2022-01-19T14:24:19.087049Z",
     "iopub.status.idle": "2022-01-19T14:24:19.21048Z",
     "shell.execute_reply": "2022-01-19T14:24:19.209779Z",
     "shell.execute_reply.started": "2022-01-19T14:24:19.087246Z"
    }
   },
   "outputs": [],
   "source": [
    "###constrained translation\n",
    "dataset = \"/kaggle/input/toy-encoding-data/toy_airline.txt\"\n",
    "df = pd.read_csv(dataset, sep='\\t', header=None)\n",
    "data = df[0].to_list()\n",
    "vocab_words = set([w.strip(\")\").strip(\"(\") for x in data for w in re.split(' ',x) ])\n",
    "vocab_IDs = tokenizer(list(vocab_words), truncation=True, max_length=128)[\"input_ids\"]\n",
    "vocab_IDs = [id[1:-1] for id in vocab_IDs]\n",
    "single_IDs = [x[0] for x in vocab_IDs if len(x)==1]\n",
    "translation_constraint = defaultdict(set)\n",
    "for id in vocab_IDs[1:]:\n",
    "    if len(id) <= 1:\n",
    "        continue\n",
    "    else:\n",
    "        translation_constraint[id[0]].add(id[1])\n",
    "#print(translation_constraint)        "
   ]
  },
  {
   "cell_type": "code",
   "execution_count": null,
   "metadata": {
    "execution": {
     "iopub.execute_input": "2022-03-25T00:16:21.698937Z",
     "iopub.status.busy": "2022-03-25T00:16:21.698151Z",
     "iopub.status.idle": "2022-03-25T00:16:21.707785Z",
     "shell.execute_reply": "2022-03-25T00:16:21.706897Z",
     "shell.execute_reply.started": "2022-03-25T00:16:21.698897Z"
    }
   },
   "outputs": [],
   "source": [
    "def train_epoch(model, data_loader, loss_fn, optimizer, device, scheduler, n_examples):\n",
    "    model = model.train()\n",
    "    losses = []\n",
    "    for d in data_loader:\n",
    "        memory = d[\"memory\"].to(device)\n",
    "        de_input = d[\"de_input\"].to(device)\n",
    "        targets = d[\"target\"].to(device)\n",
    "        #print(\"memory\", memory.shape)\n",
    "        #print(\"de_input\", de_input.shape)\n",
    "        #print(\"targets\", targets.shape)\n",
    "        outputs = model(\n",
    "                de_input,\n",
    "                memory\n",
    "                )\n",
    "      \n",
    "        loss = loss_fn(outputs.view(-1, outputs.shape[-1]), torch.flatten(targets))\n",
    "        losses.append(loss.item())\n",
    "        loss.backward()\n",
    "        torch.nn.utils.clip_grad_norm_(model.parameters(), max_norm=1.0)\n",
    "        optimizer.step()\n",
    "        scheduler.step()\n",
    "        optimizer.zero_grad()\n",
    "    return  np.mean(losses)"
   ]
  },
  {
   "cell_type": "code",
   "execution_count": null,
   "metadata": {
    "execution": {
     "iopub.execute_input": "2022-03-25T00:16:26.259002Z",
     "iopub.status.busy": "2022-03-25T00:16:26.258467Z",
     "iopub.status.idle": "2022-03-25T00:16:26.265535Z",
     "shell.execute_reply": "2022-03-25T00:16:26.264823Z",
     "shell.execute_reply.started": "2022-03-25T00:16:26.258961Z"
    }
   },
   "outputs": [],
   "source": [
    "def eval_model(model, data_loader, loss_fn, device, n_examples):\n",
    "    model = model.eval()\n",
    "    losses = []\n",
    "    \n",
    "    with torch.no_grad():\n",
    "        for d in data_loader:\n",
    "            memory = d[\"memory\"].to(device)\n",
    "            de_input = d[\"de_input\"].to(device)\n",
    "            targets = d[\"target\"].to(device)\n",
    "            outputs = model(\n",
    "                      de_input,\n",
    "                      memory)\n",
    "            loss = loss_fn(outputs.view(-1, outputs.shape[-1]), torch.flatten(targets))\n",
    "            losses.append(loss.item())\n",
    "    return np.mean(losses) "
   ]
  },
  {
   "cell_type": "code",
   "execution_count": null,
   "metadata": {
    "execution": {
     "iopub.execute_input": "2022-03-25T00:16:29.986554Z",
     "iopub.status.busy": "2022-03-25T00:16:29.986252Z",
     "iopub.status.idle": "2022-03-25T00:16:38.291512Z",
     "shell.execute_reply": "2022-03-25T00:16:38.290759Z",
     "shell.execute_reply.started": "2022-03-25T00:16:29.986520Z"
    }
   },
   "outputs": [],
   "source": [
    "pre_trained = Decoder(num_layers=6, constrained_embedding=False,sequence_memory=True)\n",
    "pre_trained.load_state_dict(torch.load('/kaggle/input/toy-encoding-data/pretrained_decoder_state.bin'))\n",
    "pretrained_dict = pre_trained.state_dict()"
   ]
  },
  {
   "cell_type": "code",
   "execution_count": null,
   "metadata": {
    "execution": {
     "iopub.execute_input": "2022-03-25T00:17:36.429311Z",
     "iopub.status.busy": "2022-03-25T00:17:36.429010Z",
     "iopub.status.idle": "2022-03-25T00:17:39.013481Z",
     "shell.execute_reply": "2022-03-25T00:17:39.012704Z",
     "shell.execute_reply.started": "2022-03-25T00:17:36.429266Z"
    }
   },
   "outputs": [],
   "source": [
    "EPOCHS = 20\n",
    "model = Decoder(vocab=vocab, num_layers=6, sequence_memory=sequential_embedding, word_embedding=pre_trained.word_embedding)\n",
    "#model_dict = model.state_dict()\n",
    "#filtered_dict = {k: v for k, v in pretrained_dict.items() if k!=\"word_embedding\"}\n",
    "#model_dict.update(filtered_dict)\n",
    "#model.load_state_dict(model_dict)\n",
    "model.load_state_dict(torch.load('/kaggle/input/toy-encoding-data/finetuned_decoder_state_X.bin'))\n",
    "model = model.to(device)\n",
    "optimizer = AdamW(model.parameters(), betas=(0.9, 0.98), eps=1e-9, lr=0.0001)\n",
    "total_steps = len(train_dataloader) * EPOCHS\n",
    "scheduler = get_linear_schedule_with_warmup(\n",
    "  optimizer,\n",
    "  num_warmup_steps=300,\n",
    "  num_training_steps=total_steps\n",
    ")\n",
    "#loss_fn = nn.CrossEntropyLoss(size_average=False, ignore_index=0)\n",
    "loss_fn = SmoothCrossEntropyLoss(smoothing=0.5)"
   ]
  },
  {
   "cell_type": "code",
   "execution_count": null,
   "metadata": {
    "execution": {
     "iopub.execute_input": "2022-03-25T00:17:41.614223Z",
     "iopub.status.busy": "2022-03-25T00:17:41.613755Z",
     "iopub.status.idle": "2022-03-25T00:28:56.586307Z",
     "shell.execute_reply": "2022-03-25T00:28:56.585361Z",
     "shell.execute_reply.started": "2022-03-25T00:17:41.614184Z"
    }
   },
   "outputs": [],
   "source": [
    "#train/finetune the decoder \n",
    "history = defaultdict(list)\n",
    "best_ce = float(\"inf\")\n",
    "patience = 0\n",
    "for epoch in range(EPOCHS):\n",
    "    print(f'Epoch {epoch + 1}/{EPOCHS}')\n",
    "    print('-' * 10)\n",
    "    train_loss = train_epoch(\n",
    "                            model,\n",
    "                            train_dataloader,\n",
    "                            loss_fn,\n",
    "                            optimizer,\n",
    "                            device,\n",
    "                            scheduler,\n",
    "                            len(X_tr_mem)\n",
    "                            )\n",
    "    print(f'Train loss {train_loss} ')\n",
    "    val_loss = eval_model(\n",
    "                        model,\n",
    "                        test_dataloader,\n",
    "                        loss_fn,\n",
    "                        device,\n",
    "                        len(X_test_mem)\n",
    "                        )\n",
    "    print(f'Val   loss {val_loss} ')\n",
    "    history['train_loss'].append(train_loss)\n",
    "    history['val_loss'].append(val_loss)\n",
    "    if val_loss < best_ce:\n",
    "        torch.save(model.state_dict(), 'finetuned_decoder_state.bin')\n",
    "        best_ce = val_loss\n",
    "        patience = 0\n",
    "    else:\n",
    "        patience += 1\n",
    "        if patience > 2:\n",
    "            break"
   ]
  },
  {
   "cell_type": "code",
   "execution_count": null,
   "metadata": {
    "execution": {
     "iopub.execute_input": "2022-02-07T22:42:43.598864Z",
     "iopub.status.busy": "2022-02-07T22:42:43.59813Z",
     "iopub.status.idle": "2022-02-07T22:42:43.613557Z",
     "shell.execute_reply": "2022-02-07T22:42:43.612774Z",
     "shell.execute_reply.started": "2022-02-07T22:42:43.598825Z"
    }
   },
   "outputs": [],
   "source": [
    "def beam_search(model,tgt, mem, max_len, idx_2_token,beam_size=8):\n",
    "    model.eval()\n",
    "    tgt = np.expand_dims(tgt, 0)\n",
    "    mem = np.expand_dims(mem,0)\n",
    "    hypothesis = torch.Tensor(tgt).to(torch.int64)\n",
    "    hypothesis[:,1:] = 0\n",
    "    hypotheses = [hypothesis] ###initialize hypotheses\n",
    "    probabs = [1] ###initialize probabs\n",
    "    mem = torch.Tensor(mem).to(torch.float32)\n",
    "    ### BOS: 101 ; EOS: 102 ; padding 0 ; \".\"\" : 119 ; \"!\":106 ; \",\":117\n",
    "    for i in range(max_len):\n",
    "        next_hypotheses = []\n",
    "        next_prob = []\n",
    "        ### search for all hypotheses\n",
    "        \n",
    "        for hypo, prob in zip(hypotheses, probabs):\n",
    "            \n",
    "            de_input = Clinical_bert.embeddings.word_embeddings(hypo)\n",
    "            outputs = model(de_input.to(device),\n",
    "                            mem.to(device))\n",
    "            \n",
    "            #probas = F.softmax(outputs[:,i,:], dim=-1)\n",
    "            tokens = torch.topk(outputs[:,i,:], beam_size).indices\n",
    "            values = torch.topk(outputs[:,i,:], beam_size).values\n",
    "            values = F.gumbel_softmax(values, tau= 5,dim=-1)\n",
    "            for j in range(beam_size):\n",
    "                idx = tokens[0][j].item()\n",
    "                value = values[0][j].item()\n",
    "                token = idx_2_token[idx] ### project the idx to original token\n",
    "                \n",
    "                if (token>200) and (token not in hypo[:,i-1:i+1]): ### if token is not a special character\n",
    "                    hypo[:,i+1] = token\n",
    "                    next_hypotheses.append(hypo.detach().clone())\n",
    "                    next_prob.append(prob*value)\n",
    "            \n",
    "        if len(next_hypotheses)>beam_size:\n",
    "            \n",
    "            #top_idx = np.asarray(next_prob).argsort()[-beam_size:]\n",
    "            top_idx = np.random.choice(len(next_prob), beam_size)\n",
    "            hypotheses = [x for i,x in enumerate(next_hypotheses) if i in top_idx.tolist() ]\n",
    "            probabs = [x for i,x in enumerate(next_prob) if i in top_idx.tolist()]\n",
    "        else:\n",
    "            hypotheses = next_hypotheses\n",
    "            probabs = next_prob\n",
    "        \n",
    "        #if token == 102 or token == 0:\n",
    "        #    break\n",
    "    \n",
    "    \n",
    "    ground_truth = tokenizer.decode(np.trim_zeros(np.squeeze(vec_translate(tgt, idx_2_token)))).strip(\"[SEP]\")\n",
    "    all_translations = []\n",
    "    for hypo in hypotheses:\n",
    "        decoded = tokenizer.decode(np.squeeze(hypo)).strip(\" [PAD] \")\n",
    "        all_translations.append(decoded)\n",
    "    \n",
    "    return (ground_truth, all_translations)"
   ]
  },
  {
   "cell_type": "code",
   "execution_count": null,
   "metadata": {
    "execution": {
     "iopub.execute_input": "2022-03-01T14:21:15.762293Z",
     "iopub.status.busy": "2022-03-01T14:21:15.761754Z",
     "iopub.status.idle": "2022-03-01T14:21:15.779029Z",
     "shell.execute_reply": "2022-03-01T14:21:15.777737Z",
     "shell.execute_reply.started": "2022-03-01T14:21:15.762244Z"
    }
   },
   "outputs": [],
   "source": [
    "import string\n",
    "exclude = \" \".join(list(string.punctuation)+[\"[PAD]\"])\n",
    "filter_set = tokenizer.encode(exclude)"
   ]
  },
  {
   "cell_type": "code",
   "execution_count": null,
   "metadata": {
    "execution": {
     "iopub.execute_input": "2022-02-07T22:42:50.452306Z",
     "iopub.status.busy": "2022-02-07T22:42:50.451827Z",
     "iopub.status.idle": "2022-02-07T22:42:50.462207Z",
     "shell.execute_reply": "2022-02-07T22:42:50.461485Z",
     "shell.execute_reply.started": "2022-02-07T22:42:50.452266Z"
    }
   },
   "outputs": [],
   "source": [
    "def inference(model,tgt, mem, idx_2_token, prefix=0, max_len=10, beam_size=20):\n",
    "    model.eval()\n",
    "    tgt = np.expand_dims(tgt, 0)\n",
    "    mem = np.expand_dims(mem,0)\n",
    "    hypothesis = torch.Tensor(tgt).to(torch.int64)\n",
    "    hypothesis[:,1:] = 0\n",
    "    hypotheses = []\n",
    "    mem = torch.Tensor(mem).to(torch.float32)\n",
    "    ### BOS: 101 ; EOS: 102 ; padding 0\n",
    "   \n",
    "    \n",
    "    de_input = Clinical_bert.embeddings.word_embeddings(hypothesis)\n",
    "    outputs = model(de_input.to(device),\n",
    "                        mem.to(device))\n",
    "    for pos in range(max_len):\n",
    "        tokens = torch.topk(outputs[:,pos,:], beam_size).indices\n",
    "        #values = torch.topk(outputs[:,idx,:], beam_size).values\n",
    "        #values = F.gumbel_softmax(values, tau= 3,dim=-1)\n",
    "        #values_ = np.squeeze(values.cpu().detach().numpy())\n",
    "        hypothesis = torch.zeros(tgt.shape, dtype=torch.int64)\n",
    "        for j in range(beam_size):\n",
    "            idx = tokens[0][j].item()\n",
    "            token = idx_2_token[idx]\n",
    "            \n",
    "            if (token>200) and (token not in filter_set):\n",
    "                hypothesis[:,j+1] = token \n",
    "        hypotheses.append(hypothesis)       \n",
    "    \n",
    "    ground_truth = tokenizer.decode(np.trim_zeros(np.squeeze(vec_translate(tgt, idx_2_token))[1:])).strip(\"[SEP]\")\n",
    "    #decoded = tokenizer.decode(torch.squeeze(hypothesis)[1:]).strip(\" [PAD] \")\n",
    "    all_translations = []\n",
    "    for hypo in hypotheses:\n",
    "        decoded = tokenizer.decode(np.squeeze(hypo)[1:]).strip(\" [PAD] \")\n",
    "        all_translations.append(decoded)\n",
    "    return (ground_truth, all_translations)"
   ]
  },
  {
   "cell_type": "code",
   "execution_count": null,
   "metadata": {
    "execution": {
     "iopub.execute_input": "2022-01-27T00:25:36.630943Z",
     "iopub.status.busy": "2022-01-27T00:25:36.630459Z",
     "iopub.status.idle": "2022-01-27T00:25:36.660325Z",
     "shell.execute_reply": "2022-01-27T00:25:36.658208Z",
     "shell.execute_reply.started": "2022-01-27T00:25:36.630906Z"
    }
   },
   "outputs": [],
   "source": [
    "#res=inference(model, y_test_dein[0], X_test_mem[0], idx_2_token, beam_size=20)\n",
    "#print(res[0])\n",
    "#print(\"-\"*10 + \"keywords\" + \"-\"*10)\n",
    "#for i in range(10):\n",
    "#    print(res[1][i])"
   ]
  },
  {
   "cell_type": "code",
   "execution_count": null,
   "metadata": {
    "execution": {
     "iopub.execute_input": "2022-02-28T19:21:55.386937Z",
     "iopub.status.busy": "2022-02-28T19:21:55.386091Z",
     "iopub.status.idle": "2022-02-28T19:21:55.400933Z",
     "shell.execute_reply": "2022-02-28T19:21:55.399894Z",
     "shell.execute_reply.started": "2022-02-28T19:21:55.3869Z"
    }
   },
   "outputs": [],
   "source": [
    "import random\n",
    "def translate(model,tgt, mem, max_len, idx_2_token, beam_size=5, prefix=3, temp=2.5):\n",
    "    model.eval()\n",
    "    tgt = np.expand_dims(tgt, 0)\n",
    "    mem = np.expand_dims(mem,0)\n",
    "    hypothesis = torch.Tensor(tgt).to(torch.int64)\n",
    "    hypothesis[:,prefix+1:] = 0\n",
    "    mem = torch.Tensor(mem).to(torch.float32)\n",
    "    ### BOS: 101 ; EOS: 102 ; padding 0\n",
    "    #consecutive = 0\n",
    "    for i in range(prefix, max_len):\n",
    "        de_input = Clinical_bert.embeddings.word_embeddings(hypothesis)\n",
    "        outputs = model(de_input.to(device),\n",
    "                        mem.to(device))\n",
    "        tokens = torch.topk(outputs[:,i,:], beam_size).indices\n",
    "        values = torch.topk(outputs[:,i,:], beam_size).values\n",
    "        values = F.gumbel_softmax(values, tau= temp,dim=-1)\n",
    "        values_ = np.squeeze(values.cpu().detach().numpy())\n",
    "        for j in range(beam_size):\n",
    "            k = np.random.choice(beam_size,1, p=values_)\n",
    "            idx = tokens[0][k].item()\n",
    "            token = idx_2_token[idx]\n",
    "            \n",
    "            if (token>200) and (token not in hypothesis[:,:i+1])and (token not in filter_set):\n",
    "                hypothesis[:,i+1] = token\n",
    "                #if i < prefix+1: break\n",
    "                break\n",
    "        if token == 102 or token == 0:\n",
    "            break\n",
    "    for i in range(prefix+1):\n",
    "        hypothesis[:,i] = idx_2_token[hypothesis[:,i].item()]\n",
    "    ground_truth = tokenizer.decode(np.trim_zeros(np.squeeze(vec_translate(tgt, idx_2_token))[1:])).strip(\"[SEP]\")\n",
    "    decoded = tokenizer.decode(torch.squeeze(hypothesis)[1:]).strip(\" [PAD] \")\n",
    "    #decoded = decoded[:len(ground_truth)]\n",
    "    return (ground_truth, decoded)"
   ]
  },
  {
   "cell_type": "code",
   "execution_count": null,
   "metadata": {
    "execution": {
     "iopub.execute_input": "2022-03-01T14:21:47.779879Z",
     "iopub.status.busy": "2022-03-01T14:21:47.779274Z",
     "iopub.status.idle": "2022-03-01T14:21:55.696081Z",
     "shell.execute_reply": "2022-03-01T14:21:55.695119Z",
     "shell.execute_reply.started": "2022-03-01T14:21:47.779829Z"
    }
   },
   "outputs": [],
   "source": [
    "###transferbility, this evaluate the decoder on another dataset\n",
    "twt = pd.read_csv('/kaggle/input/toy-encoding-data/twt_airline_reviews.tsv', sep='\\t', header=0)\n",
    "twt_embedding  = np.load(\"/kaggle/input/toy-encoding-data/pooled_1.npy\")\n",
    "twt_embedding = twt_embedding.reshape(-1, 128, 768)\n",
    "label = twt[\"Airport/City\"]\n",
    "code = {\"ATL\": \"Atlanta\",\n",
    "        \"DFW\": \"Dallas\",\n",
    "        \"DEN\": \"Denver\",\n",
    "        \"ORD\": \"Chicago\",\n",
    "        \"LAX\": \"Los Angeles\",\n",
    "        \"CLT\": \"Charlotte\",\n",
    "        \"LAS\": \"Las Vegas\",\n",
    "        \"PHX\": \"Phoenix\",\n",
    "        \"MCO\": \"Orlando\",\n",
    "        \"SEA\": \"Seattle\",\n",
    "        \"MIA\": \"Miami\",\n",
    "        \"IAH\": \"Houston\",\n",
    "        \"JFK\": \"New York\",\n",
    "        \"FLL\": \"Fort Lauderdale\",\n",
    "        \"EWR\": \"Newark\",\n",
    "        \"SFO\": \"San Francisco\",\n",
    "        \"MSP\": \"Minneapolis\",\n",
    "        \"DTW\": \"Detroit\",\n",
    "        \"BOS\": \"Boston\",\n",
    "        \"SLC\": \"Salt Lake City\"\n",
    "       }"
   ]
  },
  {
   "cell_type": "code",
   "execution_count": null,
   "metadata": {
    "execution": {
     "iopub.execute_input": "2022-03-01T14:21:57.925173Z",
     "iopub.status.busy": "2022-03-01T14:21:57.924576Z",
     "iopub.status.idle": "2022-03-01T14:21:57.950534Z",
     "shell.execute_reply": "2022-03-01T14:21:57.949176Z",
     "shell.execute_reply.started": "2022-03-01T14:21:57.925091Z"
    }
   },
   "outputs": [],
   "source": [
    "def twt_translate(model, mem, max_len, idx_2_token, beam_size=5, prefix=3, temp=2.5):\n",
    "    model.eval()\n",
    "    tgt=torch.zeros(128)\n",
    "    tgt = np.expand_dims(tgt, 0)\n",
    "    mem = np.expand_dims(mem,0)\n",
    "    hypothesis = torch.Tensor(tgt).to(torch.int64)\n",
    "    #hypothesis[:,prefix+1:] = 0\n",
    "    mem = torch.Tensor(mem).to(torch.float32)\n",
    "    ### BOS: 101 ; EOS: 102 ; padding 0\n",
    "    #consecutive = 0\n",
    "    for i in range(prefix, max_len):\n",
    "        de_input = Clinical_bert.embeddings.word_embeddings(hypothesis)\n",
    "        outputs = model(de_input.to(device),\n",
    "                        mem.to(device))\n",
    "        tokens = torch.topk(outputs[:,i,:], beam_size).indices\n",
    "        values = torch.topk(outputs[:,i,:], beam_size).values\n",
    "        values = F.gumbel_softmax(values, tau= temp,dim=-1)\n",
    "        values_ = np.squeeze(values.cpu().detach().numpy())\n",
    "        for j in range(beam_size):\n",
    "            k = np.random.choice(beam_size,1, p=values_)\n",
    "            idx = tokens[0][k].item()\n",
    "            token = idx_2_token[idx]\n",
    "            \n",
    "            if (token>200) and (token not in hypothesis[:,:i+1])and (token not in filter_set):\n",
    "                hypothesis[:,i+1] = token\n",
    "                #if i < prefix+1: break\n",
    "                break\n",
    "        if token == 102 or token == 0:\n",
    "            break\n",
    "    for i in range(prefix+1):\n",
    "        hypothesis[:,i] = idx_2_token[hypothesis[:,i].item()]\n",
    "    decoded = tokenizer.decode(torch.squeeze(hypothesis)[1:]).strip(\" [PAD] \")\n",
    "    \n",
    "    return decoded"
   ]
  },
  {
   "cell_type": "code",
   "execution_count": null,
   "metadata": {
    "execution": {
     "iopub.execute_input": "2022-03-01T14:36:44.047505Z",
     "iopub.status.busy": "2022-03-01T14:36:44.047181Z",
     "iopub.status.idle": "2022-03-01T14:39:33.224953Z",
     "shell.execute_reply": "2022-03-01T14:39:33.222668Z",
     "shell.execute_reply.started": "2022-03-01T14:36:44.047458Z"
    }
   },
   "outputs": [],
   "source": [
    "#reconstruct the sentences\n",
    "Ground_truth = []\n",
    "Prediction = []\n",
    "for i in range(100):\n",
    "    Res = []\n",
    "    for j in range(10):\n",
    "        res = twt_translate(model, twt_embedding[i], 15, idx_2_token, prefix=0 , beam_size=10, temp=2)\n",
    "        Res.append(res)\n",
    "    print(\"-\"*10 + str(i) + \"-\"*10)\n",
    "    gt = twt[\"Reviews\"].iloc[i]\n",
    "    #print(gt)\n",
    "    #print(\"-\"*21)\n",
    "    Prediction.append(Res)\n",
    "    Ground_truth.append(gt)\n",
    "    #for k in range(10):\n",
    "        #print(Res[k])\n",
    "    "
   ]
  },
  {
   "cell_type": "code",
   "execution_count": null,
   "metadata": {
    "execution": {
     "iopub.execute_input": "2022-03-01T14:28:26.262727Z",
     "iopub.status.busy": "2022-03-01T14:28:26.262432Z",
     "iopub.status.idle": "2022-03-01T14:28:56.261656Z",
     "shell.execute_reply": "2022-03-01T14:28:56.260458Z",
     "shell.execute_reply.started": "2022-03-01T14:28:26.262697Z"
    }
   },
   "outputs": [],
   "source": [
    "###define semantic similarity\n",
    "module_url = \"https://tfhub.dev/google/universal-sentence-encoder-large/4\"  \n",
    "embed = hub.load(module_url)\n",
    "def semantic_sim(messages):\n",
    "        #messages = [\"That band rocks!\", \"That song is really cool.\"]\n",
    "        scores = []\n",
    "        for m in messages:\n",
    "            message_embeddings = embed(m)[\"outputs\"]\n",
    "            a, b = message_embeddings[0].numpy(), message_embeddings[1].numpy()\n",
    "            scores.append(np.inner(a,b))\n",
    "        return np.mean(scores)\n",
    "        \n",
    "###define Bleu score\n",
    "def bleu(candidates, references):\n",
    "    \n",
    "    return bleu_score(candidates, references, max_n=2, weights=[0.5, 0.5])\n",
    "\n",
    "###define sentiment similarity\n",
    "\n",
    "def sentiment_sim(messages):\n",
    "    Scores = []\n",
    "    for message in messages:\n",
    "        score1 = sia.polarity_scores(message[0])\n",
    "        score2 = sia.polarity_scores(message[1])\n",
    "        a = np.array([score1[\"neg\"], score1[\"neu\"], score1[\"pos\"]])\n",
    "        b = np.array([score2[\"neg\"], score2[\"neu\"], score2[\"pos\"]])\n",
    "        Scores.append(np.inner(a, b) / (np.linalg.norm(a) * np.linalg.norm(b)))\n",
    "    return np.mean(Scores)\n",
    "\n",
    "###top_k prediction\n",
    "from collections import Counter\n",
    "import nltk\n",
    "from nltk.corpus import stopwords\n",
    "stops = set(stopwords.words('english'))\n",
    "def top_k(prediction):\n",
    "    percentiles = [5, 10, 20, 50]\n",
    "    top_words = defaultdict(list)\n",
    "    \n",
    "    for p in prediction:\n",
    "        tempt = []\n",
    "        for x in p: tempt += x.split()\n",
    "        c = Counter(tempt)\n",
    "        words = [k for k, v in sorted(c.items(), key=lambda item: item[1], reverse=True) if k not in stops]\n",
    "        for p in percentiles:\n",
    "            top_words[p].append(words[:int(p*len(words)/100)+1])\n",
    "    \n",
    "    return top_words\n",
    "\n",
    "###top-k accuracy\n",
    "def top_k_accuracy(top, multi):\n",
    "    acc = {}\n",
    "    for k in top.keys():\n",
    "        res = []\n",
    "        for t,m in zip(top[k], multi):\n",
    "            ans = False\n",
    "            for c in set(m.split()):\n",
    "                if c in t: ans = True\n",
    "            res.append(ans)\n",
    "        acc[k] = sum(res)/len(res)\n",
    "    return acc\n",
    "\n",
    "from geopy.geocoders import Nominatim\n",
    "from functools import partial \n",
    "geolocator = Nominatim(user_agent = \"geoapiExercises\")\n",
    "geocode = partial(geolocator.geocode, language=\"en\")\n",
    "#location = geocode(\"london\")\n",
    "#print(\"Country Name: \", location)\n",
    "\n",
    "def has_numbers(inputString):\n",
    "    return any(char.isdigit() for char in inputString)\n",
    "\n",
    "def expand_keyword(label):\n",
    "    res = []\n",
    "    location = geocode(label)\n",
    "    res.extend(location.raw[\"display_name\"].split(\", \"))\n",
    "    res = [x for x in res if not has_numbers(x)]\n",
    "    return res\n"
   ]
  },
  {
   "cell_type": "code",
   "execution_count": null,
   "metadata": {
    "execution": {
     "iopub.execute_input": "2022-03-01T14:30:08.935653Z",
     "iopub.status.busy": "2022-03-01T14:30:08.935339Z",
     "iopub.status.idle": "2022-03-01T14:31:27.647585Z",
     "shell.execute_reply": "2022-03-01T14:31:27.646531Z",
     "shell.execute_reply.started": "2022-03-01T14:30:08.935614Z"
    }
   },
   "outputs": [],
   "source": [
    "#label = twt[\"Airport/City\"].str.lower().tolist()[:10]\n",
    "label = []\n",
    "for t in Ground_truth:\n",
    "    ans = []\n",
    "    for c in code.keys():\n",
    "        if c.lower() in t or code[c].lower() in t: ans.extend([c.lower(), code[c].lower()] + expand_keyword(code[c].lower())) ###expand the keyword set\n",
    "    label.append(\" \".join(ans).lower())"
   ]
  },
  {
   "cell_type": "code",
   "execution_count": null,
   "metadata": {
    "execution": {
     "iopub.execute_input": "2022-03-01T14:41:03.427571Z",
     "iopub.status.busy": "2022-03-01T14:41:03.427263Z",
     "iopub.status.idle": "2022-03-01T14:41:03.440403Z",
     "shell.execute_reply": "2022-03-01T14:41:03.439145Z",
     "shell.execute_reply.started": "2022-03-01T14:41:03.427528Z"
    }
   },
   "outputs": [],
   "source": [
    "res = top_k(Prediction)\n",
    "top_k_accuracy(res, label)"
   ]
  },
  {
   "cell_type": "code",
   "execution_count": null,
   "metadata": {
    "execution": {
     "iopub.execute_input": "2022-02-28T19:25:19.765972Z",
     "iopub.status.busy": "2022-02-28T19:25:19.765697Z",
     "iopub.status.idle": "2022-02-28T19:25:19.776874Z",
     "shell.execute_reply": "2022-02-28T19:25:19.77574Z",
     "shell.execute_reply.started": "2022-02-28T19:25:19.765943Z"
    }
   },
   "outputs": [],
   "source": [
    "int_label = np.load(\"/kaggle/input/toy-encoding-data/test_y.npy\")\n",
    "city = [\"hong kong\", \"london\", \"toronto\", \"paris\", \"rome\", \"sydney\", \"dubai\", \"bangkok\", \"singapore\", \"frankfurt\"]\n",
    "int_label = [city[int(l)] for l in int_label]"
   ]
  },
  {
   "cell_type": "code",
   "execution_count": null,
   "metadata": {
    "execution": {
     "iopub.execute_input": "2022-02-28T20:31:28.138712Z",
     "iopub.status.busy": "2022-02-28T20:31:28.137864Z",
     "iopub.status.idle": "2022-02-28T20:34:48.642577Z",
     "shell.execute_reply": "2022-02-28T20:34:48.641528Z",
     "shell.execute_reply.started": "2022-02-28T20:31:28.138677Z"
    }
   },
   "outputs": [],
   "source": [
    "Ground_truth = []\n",
    "Prediction = []\n",
    "for i in range(100):\n",
    "    Res = []\n",
    "    for j in range(10):\n",
    "        res = translate(model, y_test_dein[i], X_test_mem[i], 15, idx_2_token, prefix=0 , beam_size=10, temp=4)\n",
    "        Res.append(res[1])\n",
    "    print(\"-\"*10 + str(i) + \"-\"*10)\n",
    "    #print(res[0])\n",
    "    Ground_truth.append(res[0])\n",
    "    Prediction.append(Res)\n",
    "    #print(\"-\"*21)\n",
    "    #for k in range(10):\n",
    "        #print(Res[k])\n",
    "\n"
   ]
  },
  {
   "cell_type": "code",
   "execution_count": null,
   "metadata": {
    "execution": {
     "iopub.execute_input": "2022-02-28T20:23:12.722523Z",
     "iopub.status.busy": "2022-02-28T20:23:12.722176Z",
     "iopub.status.idle": "2022-02-28T20:23:12.728905Z",
     "shell.execute_reply": "2022-02-28T20:23:12.727678Z",
     "shell.execute_reply.started": "2022-02-28T20:23:12.722476Z"
    }
   },
   "outputs": [],
   "source": [
    "#count the keywords\n",
    "multi_label = []\n",
    "for t in Ground_truth:\n",
    "    ans = []\n",
    "    for c in city:\n",
    "        if c in t: ans.append(c) ###expand the keyword set\n",
    "    multi_label.append(\" \".join(ans).lower())"
   ]
  },
  {
   "cell_type": "code",
   "execution_count": null,
   "metadata": {
    "execution": {
     "iopub.execute_input": "2022-02-28T20:35:04.143793Z",
     "iopub.status.busy": "2022-02-28T20:35:04.143223Z",
     "iopub.status.idle": "2022-02-28T20:35:04.161272Z",
     "shell.execute_reply": "2022-02-28T20:35:04.160134Z",
     "shell.execute_reply.started": "2022-02-28T20:35:04.143756Z"
    }
   },
   "outputs": [],
   "source": [
    "res = top_k(Prediction)\n",
    "top_k_accuracy(res, multi_label)"
   ]
  },
  {
   "cell_type": "code",
   "execution_count": null,
   "metadata": {
    "execution": {
     "iopub.execute_input": "2022-02-17T00:49:12.914264Z",
     "iopub.status.busy": "2022-02-17T00:49:12.913381Z",
     "iopub.status.idle": "2022-02-17T00:49:12.920817Z",
     "shell.execute_reply": "2022-02-17T00:49:12.920164Z",
     "shell.execute_reply.started": "2022-02-17T00:49:12.914206Z"
    }
   },
   "outputs": [],
   "source": []
  },
  {
   "cell_type": "code",
   "execution_count": null,
   "metadata": {
    "execution": {
     "iopub.execute_input": "2021-12-20T19:03:20.314627Z",
     "iopub.status.busy": "2021-12-20T19:03:20.313943Z",
     "iopub.status.idle": "2021-12-20T19:03:32.574476Z",
     "shell.execute_reply": "2021-12-20T19:03:32.573757Z",
     "shell.execute_reply.started": "2021-12-20T19:03:20.31459Z"
    }
   },
   "outputs": [],
   "source": [
    "###BLEU score\n",
    "candidates = [x[1].split() for x in Translations]\n",
    "references = [[x[0].split()] for x in Translations]\n",
    "bleu_ = bleu(candidates, references)\n",
    "print(\"BLEU score is:\",bleu_ )\n",
    "###Semantic similarity\n",
    "sem_sim = semantic_sim(Translations)\n",
    "print(\"Semantic Similarity is:\", sem_sim)\n",
    "##Setiment similarity\n",
    "sen_sim = sentiment_sim(Translations)\n",
    "print(\"Sentiment Similarity is:\", sen_sim)"
   ]
  }
 ],
 "metadata": {
  "kernelspec": {
   "display_name": "Python 3 (ipykernel)",
   "language": "python",
   "name": "python3"
  },
  "language_info": {
   "codemirror_mode": {
    "name": "ipython",
    "version": 3
   },
   "file_extension": ".py",
   "mimetype": "text/x-python",
   "name": "python",
   "nbconvert_exporter": "python",
   "pygments_lexer": "ipython3",
   "version": "3.9.12"
  }
 },
 "nbformat": 4,
 "nbformat_minor": 4
}
